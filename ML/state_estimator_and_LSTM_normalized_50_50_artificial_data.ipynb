{
 "cells": [
  {
   "cell_type": "code",
   "id": "initial_id",
   "metadata": {
    "collapsed": true,
    "ExecuteTime": {
     "end_time": "2024-05-02T17:01:16.879816Z",
     "start_time": "2024-05-02T17:01:16.848762Z"
    }
   },
   "source": [
    "from source.ion_channel import IonChannel\n",
    "from source.patch_clamp import PatchClamp\n",
    "import numpy as np\n",
    "import matplotlib.pyplot as plt\n",
    "import tensorflow as tf\n",
    "from tensorflow import keras\n",
    "import threading\n",
    "\n",
    "# This controls the number of points before and after the random midpoint to be taken for LSTM\n",
    "N_POINTS = 50\n"
   ],
   "outputs": [],
   "execution_count": 41
  },
  {
   "metadata": {
    "jupyter": {
     "is_executing": true
    },
    "ExecuteTime": {
     "start_time": "2024-05-02T17:01:18.082953Z"
    }
   },
   "cell_type": "code",
   "source": [
    "# X_Mixture_density\n",
    "X_MD = []\n",
    "y_MD = []\n",
    "X_LSTM = []\n",
    "y_LSTM = []\n",
    "X = []\n",
    "y = []\n",
    "def data_generation():\n",
    "    for i in range(1500):\n",
    "        random_ion_number = np.random.randint(1, 4)\n",
    "        patch_clamp = PatchClamp([IonChannel(1000) for _ in range(random_ion_number)])\n",
    "        normalized_X = (patch_clamp.X - np.min(patch_clamp.X)) / (np.max(patch_clamp.X) - np.min(patch_clamp.X))\n",
    "        bins = np.linspace(0, 1, 101)\n",
    "        hist_X, _ = np.histogram(normalized_X, bins=bins)\n",
    "        X_MD.append(hist_X)\n",
    "        # convert to one-hot\n",
    "        np_y = np.zeros(3, dtype=int)\n",
    "        np_y[random_ion_number - 1] = 1\n",
    "        y_MD.append(np_y)\n",
    "    \n",
    "        # LSTM data, 50 points before and after\n",
    "        random_mid_point = np.random.randint(N_POINTS, len(normalized_X) - N_POINTS)\n",
    "        start_point = random_mid_point - N_POINTS\n",
    "        end_point = random_mid_point + N_POINTS\n",
    "    \n",
    "        X_LSTM.append(normalized_X[start_point:end_point + 1])\n",
    "        np_y = np.zeros(4, dtype=int)\n",
    "        np_y[int(patch_clamp.y[random_mid_point])] = 1\n",
    "        y_LSTM.append(np_y)\n",
    "    \n",
    "        X.append(normalized_X)\n",
    "        y.append(patch_clamp.y)\n",
    "        \n",
    "\n",
    "data_generation()"
   ],
   "id": "b018705ce4399cd3",
   "outputs": [],
   "execution_count": null
  },
  {
   "metadata": {
    "ExecuteTime": {
     "end_time": "2024-05-02T15:56:39.176839Z",
     "start_time": "2024-05-02T15:56:39.140773Z"
    }
   },
   "cell_type": "code",
   "source": [
    "X_MD = np.array(X_MD)\n",
    "y_MD = np.array(y_MD)\n",
    "X_LSTM = np.array(X_LSTM).reshape(-1, 2 * N_POINTS + 1, 1)\n",
    "y_LSTM = np.array(y_LSTM).reshape(-1, 4)\n",
    "X = np.array(X)\n",
    "y = np.array(y)\n",
    "\n",
    "print('X_MD:\\t', X_MD.shape)\n",
    "print('y_MD:\\t', y_MD.shape)\n",
    "print('X_LSTM:\\t', X_LSTM.shape)\n",
    "print('y_LSTM:\\t', y_LSTM.shape)\n",
    "print('X:\\t\\t', X.shape)\n",
    "print('y:\\t\\t', y.shape)"
   ],
   "id": "5a2c776b9ba3c930",
   "outputs": [
    {
     "name": "stdout",
     "output_type": "stream",
     "text": [
      "X_MD:\t (1500, 100)\n",
      "y_MD:\t (1500, 3)\n",
      "X_LSTM:\t (1500, 101, 1)\n",
      "y_LSTM:\t (1500, 4)\n",
      "X:\t\t (1500, 1000)\n",
      "y:\t\t (1500, 1000)\n"
     ]
    }
   ],
   "execution_count": 26
  },
  {
   "metadata": {
    "ExecuteTime": {
     "end_time": "2024-05-02T15:56:39.182920Z",
     "start_time": "2024-05-02T15:56:39.178459Z"
    }
   },
   "cell_type": "code",
   "source": [
    "# Split the data into training and testing with 80% training and 20% testing\n",
    "split = int(0.8 * len(X_MD))\n",
    "X_MD_train, X_MD_test = X_MD[:split], X_MD[split:]\n",
    "y_MD_train, y_MD_test = y_MD[:split], y_MD[split:]\n",
    "X_LSTM_train, X_LSTM_test = X_LSTM[:split], X_LSTM[split:]\n",
    "y_LSTM_train, y_LSTM_test = y_LSTM[:split], y_LSTM[split:]\n",
    "X_train, X_test = X[:split], X[split:]\n",
    "y_train, y_test = y[:split], y[split:]"
   ],
   "id": "d5f709d04c8e90b7",
   "outputs": [],
   "execution_count": 27
  },
  {
   "metadata": {},
   "cell_type": "markdown",
   "source": "# Model",
   "id": "8f4f1e2c0edc943b"
  },
  {
   "metadata": {
    "ExecuteTime": {
     "end_time": "2024-05-02T15:59:51.274776Z",
     "start_time": "2024-05-02T15:59:51.265887Z"
    }
   },
   "cell_type": "code",
   "source": [
    "class CustomModel(keras.Model):\n",
    "    def __init__(self):\n",
    "        super(CustomModel, self).__init__()\n",
    "        self.lstm_layer = tf.keras.layers.LSTM(units=100)  # Define LSTM layer with 128 units\n",
    "        self.lstm_dense_layer = tf.keras.layers.Dense(units=4, activation='softmax')  # Output dense layer with 4 nodes\n",
    "        \n",
    "        self.MD_layer = tf.keras.layers.Dense(units=101, activation='relu')\n",
    "        self.MD_middle_layer = tf.keras.layers.Dense(units=50, activation='relu')\n",
    "        self.MD_output_layer = tf.keras.layers.Dense(units=3, activation='softmax')\n",
    "        \n",
    "        self.concat = tf.keras.layers.Concatenate()\n",
    "        \n",
    "        self.output_layer = tf.keras.layers.Dense(units=4, activation='softmax')\n",
    "        \n",
    "\n",
    "    def call(self, inputs, **kwargs):\n",
    "        # LSTM\n",
    "        x = self.lstm_layer(inputs[0])\n",
    "        x = self.lstm_dense_layer(x)\n",
    "        \n",
    "        # Mixture Density\n",
    "        y = self.MD_layer(inputs[1])\n",
    "        y = self.MD_middle_layer(y)\n",
    "        y = self.MD_output_layer(y)\n",
    "        \n",
    "        # Concatenate the two outputs\n",
    "        z = self.concat([x, y])\n",
    "        \n",
    "        # Output layer\n",
    "        z = self.output_layer(z)\n",
    "        \n",
    "        return z\n",
    "        "
   ],
   "id": "11bc55385ef9a7f9",
   "outputs": [],
   "execution_count": 33
  },
  {
   "metadata": {
    "ExecuteTime": {
     "end_time": "2024-05-02T15:59:54.106981Z",
     "start_time": "2024-05-02T15:59:54.079337Z"
    }
   },
   "cell_type": "code",
   "source": [
    "model = CustomModel()\n",
    "model.compile(optimizer='adam', loss='categorical_crossentropy', metrics=['accuracy'])"
   ],
   "id": "ef073e91d9e16ad3",
   "outputs": [],
   "execution_count": 34
  },
  {
   "metadata": {
    "ExecuteTime": {
     "end_time": "2024-05-02T16:34:55.673499Z",
     "start_time": "2024-05-02T16:33:37.047990Z"
    }
   },
   "cell_type": "code",
   "source": "training_info = model.fit([X_LSTM_train, X_MD_train], y_LSTM_train, epochs=50, batch_size=32, validation_data=([X_LSTM_test, X_MD_test], y_LSTM_test))",
   "id": "1df2f34bdbffd823",
   "outputs": [
    {
     "name": "stdout",
     "output_type": "stream",
     "text": [
      "Epoch 1/50\n",
      "38/38 [==============================] - 2s 42ms/step - loss: 0.3685 - accuracy: 0.8725 - val_loss: 0.5161 - val_accuracy: 0.8300\n",
      "Epoch 2/50\n",
      "38/38 [==============================] - 2s 43ms/step - loss: 0.3583 - accuracy: 0.8883 - val_loss: 0.5653 - val_accuracy: 0.7967\n",
      "Epoch 3/50\n",
      "38/38 [==============================] - 2s 43ms/step - loss: 0.3536 - accuracy: 0.8908 - val_loss: 0.5071 - val_accuracy: 0.8200\n",
      "Epoch 4/50\n",
      "38/38 [==============================] - 2s 42ms/step - loss: 0.3093 - accuracy: 0.9158 - val_loss: 0.4841 - val_accuracy: 0.8300\n",
      "Epoch 5/50\n",
      "38/38 [==============================] - 1s 38ms/step - loss: 0.3148 - accuracy: 0.9067 - val_loss: 0.4984 - val_accuracy: 0.8233\n",
      "Epoch 6/50\n",
      "38/38 [==============================] - 1s 38ms/step - loss: 0.3332 - accuracy: 0.8975 - val_loss: 0.4959 - val_accuracy: 0.8233\n",
      "Epoch 7/50\n",
      "38/38 [==============================] - 1s 38ms/step - loss: 0.3729 - accuracy: 0.8817 - val_loss: 0.5725 - val_accuracy: 0.7833\n",
      "Epoch 8/50\n",
      "38/38 [==============================] - 1s 38ms/step - loss: 0.3437 - accuracy: 0.8917 - val_loss: 0.6065 - val_accuracy: 0.8200\n",
      "Epoch 9/50\n",
      "38/38 [==============================] - 1s 39ms/step - loss: 0.3345 - accuracy: 0.9042 - val_loss: 0.4632 - val_accuracy: 0.8467\n",
      "Epoch 10/50\n",
      "38/38 [==============================] - 2s 45ms/step - loss: 0.3398 - accuracy: 0.8908 - val_loss: 0.4657 - val_accuracy: 0.8233\n",
      "Epoch 11/50\n",
      "38/38 [==============================] - 2s 43ms/step - loss: 0.3127 - accuracy: 0.9100 - val_loss: 0.4563 - val_accuracy: 0.8333\n",
      "Epoch 12/50\n",
      "38/38 [==============================] - 2s 42ms/step - loss: 0.3122 - accuracy: 0.9117 - val_loss: 0.4823 - val_accuracy: 0.8167\n",
      "Epoch 13/50\n",
      "38/38 [==============================] - 2s 42ms/step - loss: 0.3155 - accuracy: 0.9092 - val_loss: 0.4860 - val_accuracy: 0.8200\n",
      "Epoch 14/50\n",
      "38/38 [==============================] - 2s 41ms/step - loss: 0.3424 - accuracy: 0.8858 - val_loss: 0.6064 - val_accuracy: 0.7633\n",
      "Epoch 15/50\n",
      "38/38 [==============================] - 2s 42ms/step - loss: 0.3443 - accuracy: 0.8942 - val_loss: 0.4500 - val_accuracy: 0.8367\n",
      "Epoch 16/50\n",
      "38/38 [==============================] - 2s 41ms/step - loss: 0.2896 - accuracy: 0.9225 - val_loss: 0.5183 - val_accuracy: 0.8333\n",
      "Epoch 17/50\n",
      "38/38 [==============================] - 2s 43ms/step - loss: 0.2966 - accuracy: 0.9183 - val_loss: 0.4951 - val_accuracy: 0.8300\n",
      "Epoch 18/50\n",
      "38/38 [==============================] - 2s 42ms/step - loss: 0.3186 - accuracy: 0.9025 - val_loss: 0.4721 - val_accuracy: 0.8267\n",
      "Epoch 19/50\n",
      "38/38 [==============================] - 2s 41ms/step - loss: 0.3013 - accuracy: 0.9108 - val_loss: 0.4832 - val_accuracy: 0.8167\n",
      "Epoch 20/50\n",
      "38/38 [==============================] - 2s 44ms/step - loss: 0.3041 - accuracy: 0.9125 - val_loss: 0.4621 - val_accuracy: 0.8367\n",
      "Epoch 21/50\n",
      "38/38 [==============================] - 2s 42ms/step - loss: 0.3108 - accuracy: 0.9133 - val_loss: 0.4827 - val_accuracy: 0.8367\n",
      "Epoch 22/50\n",
      "38/38 [==============================] - 2s 41ms/step - loss: 0.3259 - accuracy: 0.8933 - val_loss: 0.4835 - val_accuracy: 0.8467\n",
      "Epoch 23/50\n",
      "38/38 [==============================] - 2s 41ms/step - loss: 0.3080 - accuracy: 0.9117 - val_loss: 0.5710 - val_accuracy: 0.7933\n",
      "Epoch 24/50\n",
      "38/38 [==============================] - 2s 41ms/step - loss: 0.3054 - accuracy: 0.9158 - val_loss: 0.4281 - val_accuracy: 0.8633\n",
      "Epoch 25/50\n",
      "38/38 [==============================] - 2s 41ms/step - loss: 0.2685 - accuracy: 0.9308 - val_loss: 0.4517 - val_accuracy: 0.8600\n",
      "Epoch 26/50\n",
      "38/38 [==============================] - 2s 42ms/step - loss: 0.3398 - accuracy: 0.9042 - val_loss: 0.5341 - val_accuracy: 0.8167\n",
      "Epoch 27/50\n",
      "38/38 [==============================] - 2s 41ms/step - loss: 0.3578 - accuracy: 0.8800 - val_loss: 0.4859 - val_accuracy: 0.8300\n",
      "Epoch 28/50\n",
      "38/38 [==============================] - 2s 42ms/step - loss: 0.3834 - accuracy: 0.8667 - val_loss: 0.5875 - val_accuracy: 0.7700\n",
      "Epoch 29/50\n",
      "38/38 [==============================] - 2s 42ms/step - loss: 0.3505 - accuracy: 0.8900 - val_loss: 0.5018 - val_accuracy: 0.8300\n",
      "Epoch 30/50\n",
      "38/38 [==============================] - 2s 42ms/step - loss: 0.2843 - accuracy: 0.9183 - val_loss: 0.4662 - val_accuracy: 0.8333\n",
      "Epoch 31/50\n",
      "38/38 [==============================] - 2s 41ms/step - loss: 0.3167 - accuracy: 0.9067 - val_loss: 0.5225 - val_accuracy: 0.8333\n",
      "Epoch 32/50\n",
      "38/38 [==============================] - 2s 41ms/step - loss: 0.3245 - accuracy: 0.8983 - val_loss: 0.4810 - val_accuracy: 0.8433\n",
      "Epoch 33/50\n",
      "38/38 [==============================] - 2s 41ms/step - loss: 0.2943 - accuracy: 0.9092 - val_loss: 0.4691 - val_accuracy: 0.8333\n",
      "Epoch 34/50\n",
      "38/38 [==============================] - 2s 42ms/step - loss: 0.2789 - accuracy: 0.9217 - val_loss: 0.4245 - val_accuracy: 0.8633\n",
      "Epoch 35/50\n",
      "38/38 [==============================] - 2s 41ms/step - loss: 0.3198 - accuracy: 0.9125 - val_loss: 0.4825 - val_accuracy: 0.8233\n",
      "Epoch 36/50\n",
      "38/38 [==============================] - 2s 42ms/step - loss: 0.3199 - accuracy: 0.8925 - val_loss: 0.4736 - val_accuracy: 0.8333\n",
      "Epoch 37/50\n",
      "38/38 [==============================] - 2s 41ms/step - loss: 0.3034 - accuracy: 0.9075 - val_loss: 0.5564 - val_accuracy: 0.8133\n",
      "Epoch 38/50\n",
      "38/38 [==============================] - 2s 41ms/step - loss: 0.2767 - accuracy: 0.9233 - val_loss: 0.4442 - val_accuracy: 0.8400\n",
      "Epoch 39/50\n",
      "38/38 [==============================] - 2s 40ms/step - loss: 0.2559 - accuracy: 0.9333 - val_loss: 0.4389 - val_accuracy: 0.8533\n",
      "Epoch 40/50\n",
      "38/38 [==============================] - 2s 41ms/step - loss: 0.2635 - accuracy: 0.9267 - val_loss: 0.4423 - val_accuracy: 0.8567\n",
      "Epoch 41/50\n",
      "38/38 [==============================] - 2s 41ms/step - loss: 0.2912 - accuracy: 0.9092 - val_loss: 0.4862 - val_accuracy: 0.8033\n",
      "Epoch 42/50\n",
      "38/38 [==============================] - 2s 41ms/step - loss: 0.2711 - accuracy: 0.9233 - val_loss: 0.4802 - val_accuracy: 0.8367\n",
      "Epoch 43/50\n",
      "38/38 [==============================] - 2s 41ms/step - loss: 0.2651 - accuracy: 0.9250 - val_loss: 0.4379 - val_accuracy: 0.8600\n",
      "Epoch 44/50\n",
      "38/38 [==============================] - 2s 41ms/step - loss: 0.2832 - accuracy: 0.9200 - val_loss: 0.5036 - val_accuracy: 0.8333\n",
      "Epoch 45/50\n",
      "38/38 [==============================] - 2s 41ms/step - loss: 0.2711 - accuracy: 0.9292 - val_loss: 0.4884 - val_accuracy: 0.8333\n",
      "Epoch 46/50\n",
      "38/38 [==============================] - 2s 41ms/step - loss: 0.2679 - accuracy: 0.9150 - val_loss: 0.4622 - val_accuracy: 0.8467\n",
      "Epoch 47/50\n",
      "38/38 [==============================] - 2s 47ms/step - loss: 0.2856 - accuracy: 0.9208 - val_loss: 0.5023 - val_accuracy: 0.8200\n",
      "Epoch 48/50\n",
      "38/38 [==============================] - 2s 41ms/step - loss: 0.2513 - accuracy: 0.9283 - val_loss: 0.4879 - val_accuracy: 0.8300\n",
      "Epoch 49/50\n",
      "38/38 [==============================] - 2s 41ms/step - loss: 0.2689 - accuracy: 0.9267 - val_loss: 0.4554 - val_accuracy: 0.8533\n",
      "Epoch 50/50\n",
      "38/38 [==============================] - 2s 41ms/step - loss: 0.3088 - accuracy: 0.9092 - val_loss: 0.5399 - val_accuracy: 0.8167\n"
     ]
    }
   ],
   "execution_count": 39
  },
  {
   "metadata": {
    "ExecuteTime": {
     "end_time": "2024-05-02T16:09:52.937248Z",
     "start_time": "2024-05-02T16:09:52.850189Z"
    }
   },
   "cell_type": "code",
   "source": [
    "plt.plot(training_info.history['accuracy'], label='accuracy')\n",
    "plt.plot(training_info.history['val_accuracy'], label = 'val_accuracy')\n",
    "plt.xlabel('Epoch')\n",
    "plt.ylabel('Accuracy')\n",
    "plt.ylim([0, 1])\n",
    "plt.legend(loc='lower right')\n",
    "plt.show()"
   ],
   "id": "e749daefa763e8c3",
   "outputs": [
    {
     "data": {
      "text/plain": [
       "<Figure size 640x480 with 1 Axes>"
      ],
      "image/png": "[encoded data removed]"
     },
     "metadata": {},
     "output_type": "display_data"
    }
   ],
   "execution_count": 36
  },
  {
   "metadata": {
    "ExecuteTime": {
     "end_time": "2024-05-02T16:31:35.838828Z",
     "start_time": "2024-05-02T16:31:35.762243Z"
    }
   },
   "cell_type": "code",
   "source": [
    "# save the model\n",
    "model.save('models/state_estimator_and_LSTM_normalized_50_50_artificial_data.keras')"
   ],
   "id": "62eef1bdc47f4d40",
   "outputs": [],
   "execution_count": 37
  },
  {
   "metadata": {
    "ExecuteTime": {
     "end_time": "2024-05-02T16:35:25.849931Z",
     "start_time": "2024-05-02T16:35:25.660852Z"
    }
   },
   "cell_type": "code",
   "source": [
    "# Test the model\n",
    "y_pred = model.predict([X_LSTM_test, X_MD_test])\n",
    "y_pred = np.argmax(y_pred, axis=1)\n",
    "y_true = np.argmax(y_LSTM_test, axis=1)\n",
    "print('Accuracy:', np.mean(y_pred == y_true))"
   ],
   "id": "c8d46f6fb3e33341",
   "outputs": [
    {
     "name": "stdout",
     "output_type": "stream",
     "text": [
      "10/10 [==============================] - 0s 12ms/step\n",
      "Accuracy: 0.8166666666666667\n"
     ]
    }
   ],
   "execution_count": 40
  }
 ],
 "metadata": {
  "kernelspec": {
   "display_name": "Python 3",
   "language": "python",
   "name": "python3"
  },
  "language_info": {
   "codemirror_mode": {
    "name": "ipython",
    "version": 2
   },
   "file_extension": ".py",
   "mimetype": "text/x-python",
   "name": "python",
   "nbconvert_exporter": "python",
   "pygments_lexer": "ipython2",
   "version": "2.7.6"
  }
 },
 "nbformat": 4,
 "nbformat_minor": 5
}
